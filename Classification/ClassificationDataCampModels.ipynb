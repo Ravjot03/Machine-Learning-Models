{
  "nbformat": 4,
  "nbformat_minor": 0,
  "metadata": {
    "colab": {
      "name": "ClassificationDataCampModels.ipynb",
      "provenance": [],
      "collapsed_sections": []
    },
    "kernelspec": {
      "name": "python3",
      "display_name": "Python 3"
    }
  },
  "cells": [
    {
      "cell_type": "markdown",
      "metadata": {
        "id": "3z2eQegOH1Do",
        "colab_type": "text"
      },
      "source": [
        "# Classification"
      ]
    },
    {
      "cell_type": "markdown",
      "metadata": {
        "id": "fMzXsWrLH0_h",
        "colab_type": "text"
      },
      "source": [
        "## Supervised Learning with Scikit-Learn"
      ]
    },
    {
      "cell_type": "markdown",
      "metadata": {
        "id": "gwP8-6BjH0-C",
        "colab_type": "text"
      },
      "source": [
        "Ravjot Singh\n",
        "\n",
        "E-mail: ravjot313@gmail.com\n",
        "\n",
        "M: +91-9654446404\n",
        "\n",
        "LinkedIn: https://www.linkedin.com/in/ravjot-singh-1a0777149/\n",
        "\n",
        "Github: https://github.com/Ravjot03"
      ]
    },
    {
      "cell_type": "markdown",
      "metadata": {
        "id": "ToioEZAeFOiQ",
        "colab_type": "text"
      },
      "source": [
        "Importing the required libraries"
      ]
    },
    {
      "cell_type": "code",
      "metadata": {
        "id": "XniYYubJXZQV",
        "colab_type": "code",
        "colab": {}
      },
      "source": [
        "import pandas as pd\n"
      ],
      "execution_count": 0,
      "outputs": []
    },
    {
      "cell_type": "markdown",
      "metadata": {
        "id": "qohCKwdIFVmN",
        "colab_type": "text"
      },
      "source": [
        "Reading and Statistical Analysis of the dataset"
      ]
    },
    {
      "cell_type": "code",
      "metadata": {
        "id": "l_ArSpqsYFsY",
        "colab_type": "code",
        "colab": {
          "base_uri": "https://localhost:8080/",
          "height": 202
        },
        "outputId": "f98b2eb7-ae53-4df4-e3f5-fdbd4f1721e6"
      },
      "source": [
        "df = pd.read_csv('diabetess.csv')\n",
        "df.head()"
      ],
      "execution_count": 151,
      "outputs": [
        {
          "output_type": "execute_result",
          "data": {
            "text/html": [
              "<div>\n",
              "<style scoped>\n",
              "    .dataframe tbody tr th:only-of-type {\n",
              "        vertical-align: middle;\n",
              "    }\n",
              "\n",
              "    .dataframe tbody tr th {\n",
              "        vertical-align: top;\n",
              "    }\n",
              "\n",
              "    .dataframe thead th {\n",
              "        text-align: right;\n",
              "    }\n",
              "</style>\n",
              "<table border=\"1\" class=\"dataframe\">\n",
              "  <thead>\n",
              "    <tr style=\"text-align: right;\">\n",
              "      <th></th>\n",
              "      <th>pregnancies</th>\n",
              "      <th>glucose</th>\n",
              "      <th>diastolic</th>\n",
              "      <th>triceps</th>\n",
              "      <th>insulin</th>\n",
              "      <th>bmi</th>\n",
              "      <th>dpf</th>\n",
              "      <th>age</th>\n",
              "      <th>diabetes</th>\n",
              "    </tr>\n",
              "  </thead>\n",
              "  <tbody>\n",
              "    <tr>\n",
              "      <th>0</th>\n",
              "      <td>6</td>\n",
              "      <td>148</td>\n",
              "      <td>72</td>\n",
              "      <td>35</td>\n",
              "      <td>0</td>\n",
              "      <td>33.6</td>\n",
              "      <td>0.627</td>\n",
              "      <td>50</td>\n",
              "      <td>1</td>\n",
              "    </tr>\n",
              "    <tr>\n",
              "      <th>1</th>\n",
              "      <td>1</td>\n",
              "      <td>85</td>\n",
              "      <td>66</td>\n",
              "      <td>29</td>\n",
              "      <td>0</td>\n",
              "      <td>26.6</td>\n",
              "      <td>0.351</td>\n",
              "      <td>31</td>\n",
              "      <td>0</td>\n",
              "    </tr>\n",
              "    <tr>\n",
              "      <th>2</th>\n",
              "      <td>8</td>\n",
              "      <td>183</td>\n",
              "      <td>64</td>\n",
              "      <td>0</td>\n",
              "      <td>0</td>\n",
              "      <td>23.3</td>\n",
              "      <td>0.672</td>\n",
              "      <td>32</td>\n",
              "      <td>1</td>\n",
              "    </tr>\n",
              "    <tr>\n",
              "      <th>3</th>\n",
              "      <td>1</td>\n",
              "      <td>89</td>\n",
              "      <td>66</td>\n",
              "      <td>23</td>\n",
              "      <td>94</td>\n",
              "      <td>28.1</td>\n",
              "      <td>0.167</td>\n",
              "      <td>21</td>\n",
              "      <td>0</td>\n",
              "    </tr>\n",
              "    <tr>\n",
              "      <th>4</th>\n",
              "      <td>0</td>\n",
              "      <td>137</td>\n",
              "      <td>40</td>\n",
              "      <td>35</td>\n",
              "      <td>168</td>\n",
              "      <td>43.1</td>\n",
              "      <td>2.288</td>\n",
              "      <td>33</td>\n",
              "      <td>1</td>\n",
              "    </tr>\n",
              "  </tbody>\n",
              "</table>\n",
              "</div>"
            ],
            "text/plain": [
              "   pregnancies  glucose  diastolic  triceps  ...   bmi    dpf  age  diabetes\n",
              "0            6      148         72       35  ...  33.6  0.627   50         1\n",
              "1            1       85         66       29  ...  26.6  0.351   31         0\n",
              "2            8      183         64        0  ...  23.3  0.672   32         1\n",
              "3            1       89         66       23  ...  28.1  0.167   21         0\n",
              "4            0      137         40       35  ...  43.1  2.288   33         1\n",
              "\n",
              "[5 rows x 9 columns]"
            ]
          },
          "metadata": {
            "tags": []
          },
          "execution_count": 151
        }
      ]
    },
    {
      "cell_type": "code",
      "metadata": {
        "id": "rcbXQ6o-YjL7",
        "colab_type": "code",
        "colab": {
          "base_uri": "https://localhost:8080/",
          "height": 295
        },
        "outputId": "c972e1bd-f9bd-41b2-96d0-57dc84ce4668"
      },
      "source": [
        "df.info()"
      ],
      "execution_count": 152,
      "outputs": [
        {
          "output_type": "stream",
          "text": [
            "<class 'pandas.core.frame.DataFrame'>\n",
            "RangeIndex: 768 entries, 0 to 767\n",
            "Data columns (total 9 columns):\n",
            " #   Column       Non-Null Count  Dtype  \n",
            "---  ------       --------------  -----  \n",
            " 0   pregnancies  768 non-null    int64  \n",
            " 1   glucose      768 non-null    int64  \n",
            " 2   diastolic    768 non-null    int64  \n",
            " 3   triceps      768 non-null    int64  \n",
            " 4   insulin      768 non-null    int64  \n",
            " 5   bmi          768 non-null    float64\n",
            " 6   dpf          768 non-null    float64\n",
            " 7   age          768 non-null    int64  \n",
            " 8   diabetes     768 non-null    int64  \n",
            "dtypes: float64(2), int64(7)\n",
            "memory usage: 54.1 KB\n"
          ],
          "name": "stdout"
        }
      ]
    },
    {
      "cell_type": "code",
      "metadata": {
        "id": "LqooLzHlYm0e",
        "colab_type": "code",
        "colab": {
          "base_uri": "https://localhost:8080/",
          "height": 294
        },
        "outputId": "0f1ff217-b616-48ed-d973-ff7e7a5adbf3"
      },
      "source": [
        "df.describe()"
      ],
      "execution_count": 153,
      "outputs": [
        {
          "output_type": "execute_result",
          "data": {
            "text/html": [
              "<div>\n",
              "<style scoped>\n",
              "    .dataframe tbody tr th:only-of-type {\n",
              "        vertical-align: middle;\n",
              "    }\n",
              "\n",
              "    .dataframe tbody tr th {\n",
              "        vertical-align: top;\n",
              "    }\n",
              "\n",
              "    .dataframe thead th {\n",
              "        text-align: right;\n",
              "    }\n",
              "</style>\n",
              "<table border=\"1\" class=\"dataframe\">\n",
              "  <thead>\n",
              "    <tr style=\"text-align: right;\">\n",
              "      <th></th>\n",
              "      <th>pregnancies</th>\n",
              "      <th>glucose</th>\n",
              "      <th>diastolic</th>\n",
              "      <th>triceps</th>\n",
              "      <th>insulin</th>\n",
              "      <th>bmi</th>\n",
              "      <th>dpf</th>\n",
              "      <th>age</th>\n",
              "      <th>diabetes</th>\n",
              "    </tr>\n",
              "  </thead>\n",
              "  <tbody>\n",
              "    <tr>\n",
              "      <th>count</th>\n",
              "      <td>768.000000</td>\n",
              "      <td>768.000000</td>\n",
              "      <td>768.000000</td>\n",
              "      <td>768.000000</td>\n",
              "      <td>768.000000</td>\n",
              "      <td>768.000000</td>\n",
              "      <td>768.000000</td>\n",
              "      <td>768.000000</td>\n",
              "      <td>768.000000</td>\n",
              "    </tr>\n",
              "    <tr>\n",
              "      <th>mean</th>\n",
              "      <td>3.845052</td>\n",
              "      <td>120.894531</td>\n",
              "      <td>69.105469</td>\n",
              "      <td>20.536458</td>\n",
              "      <td>79.799479</td>\n",
              "      <td>31.992578</td>\n",
              "      <td>0.471876</td>\n",
              "      <td>33.240885</td>\n",
              "      <td>0.348958</td>\n",
              "    </tr>\n",
              "    <tr>\n",
              "      <th>std</th>\n",
              "      <td>3.369578</td>\n",
              "      <td>31.972618</td>\n",
              "      <td>19.355807</td>\n",
              "      <td>15.952218</td>\n",
              "      <td>115.244002</td>\n",
              "      <td>7.884160</td>\n",
              "      <td>0.331329</td>\n",
              "      <td>11.760232</td>\n",
              "      <td>0.476951</td>\n",
              "    </tr>\n",
              "    <tr>\n",
              "      <th>min</th>\n",
              "      <td>0.000000</td>\n",
              "      <td>0.000000</td>\n",
              "      <td>0.000000</td>\n",
              "      <td>0.000000</td>\n",
              "      <td>0.000000</td>\n",
              "      <td>0.000000</td>\n",
              "      <td>0.078000</td>\n",
              "      <td>21.000000</td>\n",
              "      <td>0.000000</td>\n",
              "    </tr>\n",
              "    <tr>\n",
              "      <th>25%</th>\n",
              "      <td>1.000000</td>\n",
              "      <td>99.000000</td>\n",
              "      <td>62.000000</td>\n",
              "      <td>0.000000</td>\n",
              "      <td>0.000000</td>\n",
              "      <td>27.300000</td>\n",
              "      <td>0.243750</td>\n",
              "      <td>24.000000</td>\n",
              "      <td>0.000000</td>\n",
              "    </tr>\n",
              "    <tr>\n",
              "      <th>50%</th>\n",
              "      <td>3.000000</td>\n",
              "      <td>117.000000</td>\n",
              "      <td>72.000000</td>\n",
              "      <td>23.000000</td>\n",
              "      <td>30.500000</td>\n",
              "      <td>32.000000</td>\n",
              "      <td>0.372500</td>\n",
              "      <td>29.000000</td>\n",
              "      <td>0.000000</td>\n",
              "    </tr>\n",
              "    <tr>\n",
              "      <th>75%</th>\n",
              "      <td>6.000000</td>\n",
              "      <td>140.250000</td>\n",
              "      <td>80.000000</td>\n",
              "      <td>32.000000</td>\n",
              "      <td>127.250000</td>\n",
              "      <td>36.600000</td>\n",
              "      <td>0.626250</td>\n",
              "      <td>41.000000</td>\n",
              "      <td>1.000000</td>\n",
              "    </tr>\n",
              "    <tr>\n",
              "      <th>max</th>\n",
              "      <td>17.000000</td>\n",
              "      <td>199.000000</td>\n",
              "      <td>122.000000</td>\n",
              "      <td>99.000000</td>\n",
              "      <td>846.000000</td>\n",
              "      <td>67.100000</td>\n",
              "      <td>2.420000</td>\n",
              "      <td>81.000000</td>\n",
              "      <td>1.000000</td>\n",
              "    </tr>\n",
              "  </tbody>\n",
              "</table>\n",
              "</div>"
            ],
            "text/plain": [
              "       pregnancies     glucose   diastolic  ...         dpf         age    diabetes\n",
              "count   768.000000  768.000000  768.000000  ...  768.000000  768.000000  768.000000\n",
              "mean      3.845052  120.894531   69.105469  ...    0.471876   33.240885    0.348958\n",
              "std       3.369578   31.972618   19.355807  ...    0.331329   11.760232    0.476951\n",
              "min       0.000000    0.000000    0.000000  ...    0.078000   21.000000    0.000000\n",
              "25%       1.000000   99.000000   62.000000  ...    0.243750   24.000000    0.000000\n",
              "50%       3.000000  117.000000   72.000000  ...    0.372500   29.000000    0.000000\n",
              "75%       6.000000  140.250000   80.000000  ...    0.626250   41.000000    1.000000\n",
              "max      17.000000  199.000000  122.000000  ...    2.420000   81.000000    1.000000\n",
              "\n",
              "[8 rows x 9 columns]"
            ]
          },
          "metadata": {
            "tags": []
          },
          "execution_count": 153
        }
      ]
    },
    {
      "cell_type": "code",
      "metadata": {
        "id": "vNQNfVFyYp24",
        "colab_type": "code",
        "colab": {
          "base_uri": "https://localhost:8080/",
          "height": 415
        },
        "outputId": "4e7b4610-9dc9-487f-e98d-ea0bec8fe41d"
      },
      "source": [
        "df.isna()"
      ],
      "execution_count": 154,
      "outputs": [
        {
          "output_type": "execute_result",
          "data": {
            "text/html": [
              "<div>\n",
              "<style scoped>\n",
              "    .dataframe tbody tr th:only-of-type {\n",
              "        vertical-align: middle;\n",
              "    }\n",
              "\n",
              "    .dataframe tbody tr th {\n",
              "        vertical-align: top;\n",
              "    }\n",
              "\n",
              "    .dataframe thead th {\n",
              "        text-align: right;\n",
              "    }\n",
              "</style>\n",
              "<table border=\"1\" class=\"dataframe\">\n",
              "  <thead>\n",
              "    <tr style=\"text-align: right;\">\n",
              "      <th></th>\n",
              "      <th>pregnancies</th>\n",
              "      <th>glucose</th>\n",
              "      <th>diastolic</th>\n",
              "      <th>triceps</th>\n",
              "      <th>insulin</th>\n",
              "      <th>bmi</th>\n",
              "      <th>dpf</th>\n",
              "      <th>age</th>\n",
              "      <th>diabetes</th>\n",
              "    </tr>\n",
              "  </thead>\n",
              "  <tbody>\n",
              "    <tr>\n",
              "      <th>0</th>\n",
              "      <td>False</td>\n",
              "      <td>False</td>\n",
              "      <td>False</td>\n",
              "      <td>False</td>\n",
              "      <td>False</td>\n",
              "      <td>False</td>\n",
              "      <td>False</td>\n",
              "      <td>False</td>\n",
              "      <td>False</td>\n",
              "    </tr>\n",
              "    <tr>\n",
              "      <th>1</th>\n",
              "      <td>False</td>\n",
              "      <td>False</td>\n",
              "      <td>False</td>\n",
              "      <td>False</td>\n",
              "      <td>False</td>\n",
              "      <td>False</td>\n",
              "      <td>False</td>\n",
              "      <td>False</td>\n",
              "      <td>False</td>\n",
              "    </tr>\n",
              "    <tr>\n",
              "      <th>2</th>\n",
              "      <td>False</td>\n",
              "      <td>False</td>\n",
              "      <td>False</td>\n",
              "      <td>False</td>\n",
              "      <td>False</td>\n",
              "      <td>False</td>\n",
              "      <td>False</td>\n",
              "      <td>False</td>\n",
              "      <td>False</td>\n",
              "    </tr>\n",
              "    <tr>\n",
              "      <th>3</th>\n",
              "      <td>False</td>\n",
              "      <td>False</td>\n",
              "      <td>False</td>\n",
              "      <td>False</td>\n",
              "      <td>False</td>\n",
              "      <td>False</td>\n",
              "      <td>False</td>\n",
              "      <td>False</td>\n",
              "      <td>False</td>\n",
              "    </tr>\n",
              "    <tr>\n",
              "      <th>4</th>\n",
              "      <td>False</td>\n",
              "      <td>False</td>\n",
              "      <td>False</td>\n",
              "      <td>False</td>\n",
              "      <td>False</td>\n",
              "      <td>False</td>\n",
              "      <td>False</td>\n",
              "      <td>False</td>\n",
              "      <td>False</td>\n",
              "    </tr>\n",
              "    <tr>\n",
              "      <th>...</th>\n",
              "      <td>...</td>\n",
              "      <td>...</td>\n",
              "      <td>...</td>\n",
              "      <td>...</td>\n",
              "      <td>...</td>\n",
              "      <td>...</td>\n",
              "      <td>...</td>\n",
              "      <td>...</td>\n",
              "      <td>...</td>\n",
              "    </tr>\n",
              "    <tr>\n",
              "      <th>763</th>\n",
              "      <td>False</td>\n",
              "      <td>False</td>\n",
              "      <td>False</td>\n",
              "      <td>False</td>\n",
              "      <td>False</td>\n",
              "      <td>False</td>\n",
              "      <td>False</td>\n",
              "      <td>False</td>\n",
              "      <td>False</td>\n",
              "    </tr>\n",
              "    <tr>\n",
              "      <th>764</th>\n",
              "      <td>False</td>\n",
              "      <td>False</td>\n",
              "      <td>False</td>\n",
              "      <td>False</td>\n",
              "      <td>False</td>\n",
              "      <td>False</td>\n",
              "      <td>False</td>\n",
              "      <td>False</td>\n",
              "      <td>False</td>\n",
              "    </tr>\n",
              "    <tr>\n",
              "      <th>765</th>\n",
              "      <td>False</td>\n",
              "      <td>False</td>\n",
              "      <td>False</td>\n",
              "      <td>False</td>\n",
              "      <td>False</td>\n",
              "      <td>False</td>\n",
              "      <td>False</td>\n",
              "      <td>False</td>\n",
              "      <td>False</td>\n",
              "    </tr>\n",
              "    <tr>\n",
              "      <th>766</th>\n",
              "      <td>False</td>\n",
              "      <td>False</td>\n",
              "      <td>False</td>\n",
              "      <td>False</td>\n",
              "      <td>False</td>\n",
              "      <td>False</td>\n",
              "      <td>False</td>\n",
              "      <td>False</td>\n",
              "      <td>False</td>\n",
              "    </tr>\n",
              "    <tr>\n",
              "      <th>767</th>\n",
              "      <td>False</td>\n",
              "      <td>False</td>\n",
              "      <td>False</td>\n",
              "      <td>False</td>\n",
              "      <td>False</td>\n",
              "      <td>False</td>\n",
              "      <td>False</td>\n",
              "      <td>False</td>\n",
              "      <td>False</td>\n",
              "    </tr>\n",
              "  </tbody>\n",
              "</table>\n",
              "<p>768 rows × 9 columns</p>\n",
              "</div>"
            ],
            "text/plain": [
              "     pregnancies  glucose  diastolic  triceps  ...    bmi    dpf    age  diabetes\n",
              "0          False    False      False    False  ...  False  False  False     False\n",
              "1          False    False      False    False  ...  False  False  False     False\n",
              "2          False    False      False    False  ...  False  False  False     False\n",
              "3          False    False      False    False  ...  False  False  False     False\n",
              "4          False    False      False    False  ...  False  False  False     False\n",
              "..           ...      ...        ...      ...  ...    ...    ...    ...       ...\n",
              "763        False    False      False    False  ...  False  False  False     False\n",
              "764        False    False      False    False  ...  False  False  False     False\n",
              "765        False    False      False    False  ...  False  False  False     False\n",
              "766        False    False      False    False  ...  False  False  False     False\n",
              "767        False    False      False    False  ...  False  False  False     False\n",
              "\n",
              "[768 rows x 9 columns]"
            ]
          },
          "metadata": {
            "tags": []
          },
          "execution_count": 154
        }
      ]
    },
    {
      "cell_type": "code",
      "metadata": {
        "id": "gjLVbHf3Ysl_",
        "colab_type": "code",
        "colab": {
          "base_uri": "https://localhost:8080/",
          "height": 191
        },
        "outputId": "bc3477d2-f84b-4768-a8f1-677f8d538ce3"
      },
      "source": [
        "df.isna().sum()"
      ],
      "execution_count": 155,
      "outputs": [
        {
          "output_type": "execute_result",
          "data": {
            "text/plain": [
              "pregnancies    0\n",
              "glucose        0\n",
              "diastolic      0\n",
              "triceps        0\n",
              "insulin        0\n",
              "bmi            0\n",
              "dpf            0\n",
              "age            0\n",
              "diabetes       0\n",
              "dtype: int64"
            ]
          },
          "metadata": {
            "tags": []
          },
          "execution_count": 155
        }
      ]
    },
    {
      "cell_type": "code",
      "metadata": {
        "id": "R8hb9eLGYvx7",
        "colab_type": "code",
        "colab": {
          "base_uri": "https://localhost:8080/",
          "height": 245
        },
        "outputId": "d1b3dd85-b0cb-45ae-832d-c5bdb3cd4662"
      },
      "source": [
        "df[df == '?'].count()"
      ],
      "execution_count": 156,
      "outputs": [
        {
          "output_type": "stream",
          "text": [
            "/usr/local/lib/python3.6/dist-packages/pandas/core/ops/array_ops.py:253: FutureWarning: elementwise comparison failed; returning scalar instead, but in the future will perform elementwise comparison\n",
            "  res_values = method(rvalues)\n"
          ],
          "name": "stderr"
        },
        {
          "output_type": "execute_result",
          "data": {
            "text/plain": [
              "pregnancies    0\n",
              "glucose        0\n",
              "diastolic      0\n",
              "triceps        0\n",
              "insulin        0\n",
              "bmi            0\n",
              "dpf            0\n",
              "age            0\n",
              "diabetes       0\n",
              "dtype: int64"
            ]
          },
          "metadata": {
            "tags": []
          },
          "execution_count": 156
        }
      ]
    },
    {
      "cell_type": "code",
      "metadata": {
        "id": "bKowg9r4ZA3G",
        "colab_type": "code",
        "colab": {
          "base_uri": "https://localhost:8080/",
          "height": 69
        },
        "outputId": "68e8c8c4-a688-4e89-cadd-9b492228d576"
      },
      "source": [
        "df.keys()"
      ],
      "execution_count": 157,
      "outputs": [
        {
          "output_type": "execute_result",
          "data": {
            "text/plain": [
              "Index(['pregnancies', 'glucose', 'diastolic', 'triceps', 'insulin', 'bmi',\n",
              "       'dpf', 'age', 'diabetes'],\n",
              "      dtype='object')"
            ]
          },
          "metadata": {
            "tags": []
          },
          "execution_count": 157
        }
      ]
    },
    {
      "cell_type": "code",
      "metadata": {
        "id": "QlkdVX4mZMDv",
        "colab_type": "code",
        "colab": {
          "base_uri": "https://localhost:8080/",
          "height": 35
        },
        "outputId": "5973d70a-c353-4b51-a7d0-19f59e3dc5c1"
      },
      "source": [
        "df.shape"
      ],
      "execution_count": 158,
      "outputs": [
        {
          "output_type": "execute_result",
          "data": {
            "text/plain": [
              "(768, 9)"
            ]
          },
          "metadata": {
            "tags": []
          },
          "execution_count": 158
        }
      ]
    },
    {
      "cell_type": "markdown",
      "metadata": {
        "id": "HtiLe0sIFlzY",
        "colab_type": "text"
      },
      "source": [
        "# Classification Model -- **KNN**\n",
        "## KNN -- KNearestNeighbors\n"
      ]
    },
    {
      "cell_type": "code",
      "metadata": {
        "id": "blCsr4wediEN",
        "colab_type": "code",
        "colab": {}
      },
      "source": [
        "from sklearn.model_selection import train_test_split\n",
        "from sklearn.neighbors import KNeighborsClassifier\n",
        "knn = KNeighborsClassifier(n_neighbors=6)"
      ],
      "execution_count": 0,
      "outputs": []
    },
    {
      "cell_type": "code",
      "metadata": {
        "id": "h64lZRTP9Pz-",
        "colab_type": "code",
        "colab": {}
      },
      "source": [
        "y = df['diabetes'].values\n",
        "X = df.drop('diabetes', axis=1).values"
      ],
      "execution_count": 0,
      "outputs": []
    },
    {
      "cell_type": "code",
      "metadata": {
        "id": "DfTBWxCQBBrr",
        "colab_type": "code",
        "colab": {
          "base_uri": "https://localhost:8080/",
          "height": 52
        },
        "outputId": "aaf24607-8a6f-4548-f6fb-fa506af2e23a"
      },
      "source": [
        "print(\"Shape of X:\", X.shape)\n",
        "print(\"Shape of y:\", y.shape)"
      ],
      "execution_count": 161,
      "outputs": [
        {
          "output_type": "stream",
          "text": [
            "Shape of X: (768, 8)\n",
            "Shape of y: (768,)\n"
          ],
          "name": "stdout"
        }
      ]
    },
    {
      "cell_type": "markdown",
      "metadata": {
        "id": "_j3LV1EOF1-x",
        "colab_type": "text"
      },
      "source": [
        "Dividing the dataset into training and test data"
      ]
    },
    {
      "cell_type": "code",
      "metadata": {
        "id": "R8MtUxZ8-nW4",
        "colab_type": "code",
        "colab": {
          "base_uri": "https://localhost:8080/",
          "height": 69
        },
        "outputId": "e5dcfc32-a53d-4f74-c7a9-d63fd96bc1be"
      },
      "source": [
        "X_train, X_test, y_train, y_test = train_test_split(X,y, test_size=0.25, random_state=42)\n",
        "knn.fit(X_train, y_train)"
      ],
      "execution_count": 182,
      "outputs": [
        {
          "output_type": "execute_result",
          "data": {
            "text/plain": [
              "KNeighborsClassifier(algorithm='auto', leaf_size=30, metric='minkowski',\n",
              "                     metric_params=None, n_jobs=None, n_neighbors=5, p=2,\n",
              "                     weights='uniform')"
            ]
          },
          "metadata": {
            "tags": []
          },
          "execution_count": 182
        }
      ]
    },
    {
      "cell_type": "markdown",
      "metadata": {
        "id": "ou6Y1W8wF8xa",
        "colab_type": "text"
      },
      "source": [
        "Shape of Training and Test Data"
      ]
    },
    {
      "cell_type": "code",
      "metadata": {
        "id": "kaNYPfCZ_Dub",
        "colab_type": "code",
        "colab": {
          "base_uri": "https://localhost:8080/",
          "height": 87
        },
        "outputId": "1eab484b-36e9-41bb-9c63-176251211eac"
      },
      "source": [
        "print(\"Shape of X_train:\",X_train.shape)\n",
        "print(\"Shape of X_test:\",X_test.shape)\n",
        "print(\"Shape of y_train:\",y_train.shape)\n",
        "print(\"Shape of y_test:\",y_test.shape)"
      ],
      "execution_count": 163,
      "outputs": [
        {
          "output_type": "stream",
          "text": [
            "Shape of X_train: (576, 8)\n",
            "Shape of X_test: (192, 8)\n",
            "Shape of y_train: (576,)\n",
            "Shape of y_test: (192,)\n"
          ],
          "name": "stdout"
        }
      ]
    },
    {
      "cell_type": "markdown",
      "metadata": {
        "id": "qnyNRUHVGAh2",
        "colab_type": "text"
      },
      "source": [
        "Predicting the Test data"
      ]
    },
    {
      "cell_type": "code",
      "metadata": {
        "id": "CSJ0GmSm_jMe",
        "colab_type": "code",
        "colab": {
          "base_uri": "https://localhost:8080/",
          "height": 35
        },
        "outputId": "44d024a0-8966-4725-ad26-dbc1bd59bda8"
      },
      "source": [
        "knn.predict(X_test)\n",
        "knn.score(X_test,y_test)"
      ],
      "execution_count": 164,
      "outputs": [
        {
          "output_type": "execute_result",
          "data": {
            "text/plain": [
              "0.6927083333333334"
            ]
          },
          "metadata": {
            "tags": []
          },
          "execution_count": 164
        }
      ]
    },
    {
      "cell_type": "markdown",
      "metadata": {
        "id": "9hIAsSjvGEKm",
        "colab_type": "text"
      },
      "source": [
        "**Applying Cross Validation Model**"
      ]
    },
    {
      "cell_type": "code",
      "metadata": {
        "id": "L1WShyl0CtQ9",
        "colab_type": "code",
        "colab": {
          "base_uri": "https://localhost:8080/",
          "height": 87
        },
        "outputId": "42860f86-ff7b-45eb-991b-36a1a1bb56cd"
      },
      "source": [
        "from sklearn.model_selection import cross_val_score\n",
        "\n",
        "cv_scores = cross_val_score(knn, X, y, cv=5)\n",
        "print(cv_scores)\n",
        "print(\"\\n\")\n",
        "\n",
        "import numpy as np\n",
        "\n",
        "print(\"Mean of Cross Val Score is:\", np.mean(cv_scores))\n"
      ],
      "execution_count": 165,
      "outputs": [
        {
          "output_type": "stream",
          "text": [
            "[0.70779221 0.72727273 0.72077922 0.75816993 0.7254902 ]\n",
            "\n",
            "\n",
            "Mean of Cross Val Score is: 0.727900857312622\n"
          ],
          "name": "stdout"
        }
      ]
    },
    {
      "cell_type": "markdown",
      "metadata": {
        "id": "0KVcgL4lGimq",
        "colab_type": "text"
      },
      "source": [
        "**Fine Tuning the Model**\n",
        "###### Getting the Classification Report and Confusion Matrix"
      ]
    },
    {
      "cell_type": "code",
      "metadata": {
        "id": "e1j3c-iGBPJt",
        "colab_type": "code",
        "colab": {
          "base_uri": "https://localhost:8080/",
          "height": 277
        },
        "outputId": "d2a7d5de-f820-4d39-9936-982cd5541f2d"
      },
      "source": [
        "from sklearn.metrics import classification_report\n",
        "from sklearn.metrics import confusion_matrix\n",
        "\n",
        "knn = KNeighborsClassifier(n_neighbors=8)\n",
        "X_train, X_test, y_train, y_test = train_test_split(X,y, test_size=0.25, random_state=42)\n",
        "\n",
        "knn.fit(X_train, y_train)\n",
        "y_pred = knn.predict(X_test)\n",
        "print(\"Confusion Matrix: \\n\", confusion_matrix(y_test, y_pred))\n",
        "print(\"\\n\")\n",
        "print(\"Classification Report: \\n\", classification_report(y_test,y_pred))"
      ],
      "execution_count": 166,
      "outputs": [
        {
          "output_type": "stream",
          "text": [
            "Confusion Matrix: \n",
            " [[100  23]\n",
            " [ 33  36]]\n",
            "\n",
            "\n",
            "Classification Report: \n",
            "               precision    recall  f1-score   support\n",
            "\n",
            "           0       0.75      0.81      0.78       123\n",
            "           1       0.61      0.52      0.56        69\n",
            "\n",
            "    accuracy                           0.71       192\n",
            "   macro avg       0.68      0.67      0.67       192\n",
            "weighted avg       0.70      0.71      0.70       192\n",
            "\n"
          ],
          "name": "stdout"
        }
      ]
    },
    {
      "cell_type": "markdown",
      "metadata": {
        "id": "4LhWL4vhG4dM",
        "colab_type": "text"
      },
      "source": [
        "**Hyperparameters**"
      ]
    },
    {
      "cell_type": "code",
      "metadata": {
        "id": "eGqDT2Ff37Zg",
        "colab_type": "code",
        "colab": {
          "base_uri": "https://localhost:8080/",
          "height": 245
        },
        "outputId": "83faa570-099e-47d1-9c8f-3dd2e6ecdbcf"
      },
      "source": [
        "from sklearn.model_selection import GridSearchCV\n",
        "param_grid = {'n_neighbors': np.arange(1,50)}\n",
        "\n",
        "knn = KNeighborsClassifier()\n",
        "knn_cv = GridSearchCV(knn, param_grid, cv=5)\n",
        "knn_cv.fit(X,y)\n"
      ],
      "execution_count": 167,
      "outputs": [
        {
          "output_type": "execute_result",
          "data": {
            "text/plain": [
              "GridSearchCV(cv=5, error_score=nan,\n",
              "             estimator=KNeighborsClassifier(algorithm='auto', leaf_size=30,\n",
              "                                            metric='minkowski',\n",
              "                                            metric_params=None, n_jobs=None,\n",
              "                                            n_neighbors=5, p=2,\n",
              "                                            weights='uniform'),\n",
              "             iid='deprecated', n_jobs=None,\n",
              "             param_grid={'n_neighbors': array([ 1,  2,  3,  4,  5,  6,  7,  8,  9, 10, 11, 12, 13, 14, 15, 16, 17,\n",
              "       18, 19, 20, 21, 22, 23, 24, 25, 26, 27, 28, 29, 30, 31, 32, 33, 34,\n",
              "       35, 36, 37, 38, 39, 40, 41, 42, 43, 44, 45, 46, 47, 48, 49])},\n",
              "             pre_dispatch='2*n_jobs', refit=True, return_train_score=False,\n",
              "             scoring=None, verbose=0)"
            ]
          },
          "metadata": {
            "tags": []
          },
          "execution_count": 167
        }
      ]
    },
    {
      "cell_type": "code",
      "metadata": {
        "id": "fSBbN6cC4w6U",
        "colab_type": "code",
        "colab": {
          "base_uri": "https://localhost:8080/",
          "height": 35
        },
        "outputId": "409ee142-4e5a-42a0-d8a2-54afcbe4821b"
      },
      "source": [
        "knn_cv.best_params_"
      ],
      "execution_count": 168,
      "outputs": [
        {
          "output_type": "execute_result",
          "data": {
            "text/plain": [
              "{'n_neighbors': 14}"
            ]
          },
          "metadata": {
            "tags": []
          },
          "execution_count": 168
        }
      ]
    },
    {
      "cell_type": "code",
      "metadata": {
        "id": "340oVr1T4yq1",
        "colab_type": "code",
        "colab": {
          "base_uri": "https://localhost:8080/",
          "height": 35
        },
        "outputId": "478f6b15-90b8-410c-d84f-31e933010c5d"
      },
      "source": [
        "knn_cv.best_score_"
      ],
      "execution_count": 169,
      "outputs": [
        {
          "output_type": "execute_result",
          "data": {
            "text/plain": [
              "0.7578558696205755"
            ]
          },
          "metadata": {
            "tags": []
          },
          "execution_count": 169
        }
      ]
    },
    {
      "cell_type": "code",
      "metadata": {
        "id": "qD-PEt7m430O",
        "colab_type": "code",
        "colab": {
          "base_uri": "https://localhost:8080/",
          "height": 69
        },
        "outputId": "331da89b-c2ea-48ff-c2fa-499044777c9f"
      },
      "source": [
        "knn_cv.best_estimator_"
      ],
      "execution_count": 170,
      "outputs": [
        {
          "output_type": "execute_result",
          "data": {
            "text/plain": [
              "KNeighborsClassifier(algorithm='auto', leaf_size=30, metric='minkowski',\n",
              "                     metric_params=None, n_jobs=None, n_neighbors=14, p=2,\n",
              "                     weights='uniform')"
            ]
          },
          "metadata": {
            "tags": []
          },
          "execution_count": 170
        }
      ]
    },
    {
      "cell_type": "code",
      "metadata": {
        "id": "sgWUzsun48C7",
        "colab_type": "code",
        "colab": {
          "base_uri": "https://localhost:8080/",
          "height": 35
        },
        "outputId": "0f835f68-37b3-4858-f18c-5d07e25edfea"
      },
      "source": [
        "knn_cv.best_index_"
      ],
      "execution_count": 171,
      "outputs": [
        {
          "output_type": "execute_result",
          "data": {
            "text/plain": [
              "13"
            ]
          },
          "metadata": {
            "tags": []
          },
          "execution_count": 171
        }
      ]
    },
    {
      "cell_type": "code",
      "metadata": {
        "id": "uvPg0ucy681m",
        "colab_type": "code",
        "colab": {
          "base_uri": "https://localhost:8080/",
          "height": 263
        },
        "outputId": "ea069002-d09e-42a8-ee8b-7640f104a6ea"
      },
      "source": [
        "from sklearn.model_selection import RandomizedSearchCV\n",
        "param_grid = {'n_neighbors': np.arange(1,50)}\n",
        "\n",
        "knn = KNeighborsClassifier()\n",
        "knn_scv = RandomizedSearchCV(knn, param_grid, cv=5)\n",
        "knn_scv.fit(X,y)\n"
      ],
      "execution_count": 172,
      "outputs": [
        {
          "output_type": "execute_result",
          "data": {
            "text/plain": [
              "RandomizedSearchCV(cv=5, error_score=nan,\n",
              "                   estimator=KNeighborsClassifier(algorithm='auto',\n",
              "                                                  leaf_size=30,\n",
              "                                                  metric='minkowski',\n",
              "                                                  metric_params=None,\n",
              "                                                  n_jobs=None, n_neighbors=5,\n",
              "                                                  p=2, weights='uniform'),\n",
              "                   iid='deprecated', n_iter=10, n_jobs=None,\n",
              "                   param_distributions={'n_neighbors': array([ 1,  2,  3,  4,  5,  6,  7,  8,  9, 10, 11, 12, 13, 14, 15, 16, 17,\n",
              "       18, 19, 20, 21, 22, 23, 24, 25, 26, 27, 28, 29, 30, 31, 32, 33, 34,\n",
              "       35, 36, 37, 38, 39, 40, 41, 42, 43, 44, 45, 46, 47, 48, 49])},\n",
              "                   pre_dispatch='2*n_jobs', random_state=None, refit=True,\n",
              "                   return_train_score=False, scoring=None, verbose=0)"
            ]
          },
          "metadata": {
            "tags": []
          },
          "execution_count": 172
        }
      ]
    },
    {
      "cell_type": "code",
      "metadata": {
        "id": "QrKJ5fJK7JkO",
        "colab_type": "code",
        "colab": {
          "base_uri": "https://localhost:8080/",
          "height": 35
        },
        "outputId": "919561df-29f7-4022-cdfa-cef689c212af"
      },
      "source": [
        "knn_scv.best_params_"
      ],
      "execution_count": 173,
      "outputs": [
        {
          "output_type": "execute_result",
          "data": {
            "text/plain": [
              "{'n_neighbors': 14}"
            ]
          },
          "metadata": {
            "tags": []
          },
          "execution_count": 173
        }
      ]
    },
    {
      "cell_type": "code",
      "metadata": {
        "id": "LO-zlKWm7Mx9",
        "colab_type": "code",
        "colab": {
          "base_uri": "https://localhost:8080/",
          "height": 35
        },
        "outputId": "ffbfb19c-8439-4c56-970c-b3f4131c1fd6"
      },
      "source": [
        "knn_scv.best_score_"
      ],
      "execution_count": 174,
      "outputs": [
        {
          "output_type": "execute_result",
          "data": {
            "text/plain": [
              "0.7578558696205755"
            ]
          },
          "metadata": {
            "tags": []
          },
          "execution_count": 174
        }
      ]
    },
    {
      "cell_type": "markdown",
      "metadata": {
        "id": "MowL8YRSHEVr",
        "colab_type": "text"
      },
      "source": [
        "**Applying Ridge Model to the Dataset**"
      ]
    },
    {
      "cell_type": "code",
      "metadata": {
        "id": "opAGO2jo5ECN",
        "colab_type": "code",
        "colab": {
          "base_uri": "https://localhost:8080/",
          "height": 35
        },
        "outputId": "392cbe31-278e-4a1b-88fc-c37427dff9c1"
      },
      "source": [
        "from sklearn.model_selection import train_test_split\n",
        "from sklearn.linear_model import RidgeClassifier\n",
        "\n",
        "X_train, X_test, y_train, y_test = train_test_split(X, y, test_size=0.25, random_state=42)\n",
        "\n",
        "ridge_class = RidgeClassifier(alpha=0.5, normalize=True)\n",
        "ridge_class.fit(X_train, y_train)\n",
        "ridge_class.predict(X_test)\n",
        "ridge_class.score(X_test,y_test)"
      ],
      "execution_count": 175,
      "outputs": [
        {
          "output_type": "execute_result",
          "data": {
            "text/plain": [
              "0.7708333333333334"
            ]
          },
          "metadata": {
            "tags": []
          },
          "execution_count": 175
        }
      ]
    },
    {
      "cell_type": "markdown",
      "metadata": {
        "id": "pl2w04GUHMpG",
        "colab_type": "text"
      },
      "source": [
        "**Replacing the missing values from the data**"
      ]
    },
    {
      "cell_type": "code",
      "metadata": {
        "id": "7j5gstz-8agF",
        "colab_type": "code",
        "colab": {
          "base_uri": "https://localhost:8080/",
          "height": 295
        },
        "outputId": "df9dea57-7cff-4d71-c6d6-c2bce0374b88"
      },
      "source": [
        "df.insulin.replace(0, np.nan, inplace=True)\n",
        "df.triceps.replace(0, np.nan, inplace=True)\n",
        "df.bmi.replace(0, np.nan, inplace=True)\n",
        "df.info()"
      ],
      "execution_count": 176,
      "outputs": [
        {
          "output_type": "stream",
          "text": [
            "<class 'pandas.core.frame.DataFrame'>\n",
            "RangeIndex: 768 entries, 0 to 767\n",
            "Data columns (total 9 columns):\n",
            " #   Column       Non-Null Count  Dtype  \n",
            "---  ------       --------------  -----  \n",
            " 0   pregnancies  768 non-null    int64  \n",
            " 1   glucose      768 non-null    int64  \n",
            " 2   diastolic    768 non-null    int64  \n",
            " 3   triceps      541 non-null    float64\n",
            " 4   insulin      394 non-null    float64\n",
            " 5   bmi          757 non-null    float64\n",
            " 6   dpf          768 non-null    float64\n",
            " 7   age          768 non-null    int64  \n",
            " 8   diabetes     768 non-null    int64  \n",
            "dtypes: float64(4), int64(5)\n",
            "memory usage: 54.1 KB\n"
          ],
          "name": "stdout"
        }
      ]
    },
    {
      "cell_type": "markdown",
      "metadata": {
        "id": "11wN5wXfHUCW",
        "colab_type": "text"
      },
      "source": [
        "Preprocessing of data\n"
      ]
    },
    {
      "cell_type": "code",
      "metadata": {
        "id": "YZp8uqDg-_Ka",
        "colab_type": "code",
        "colab": {
          "base_uri": "https://localhost:8080/",
          "height": 139
        },
        "outputId": "7562a263-a419-476c-9b8a-4c0e57c03c3f"
      },
      "source": [
        "from sklearn.preprocessing import scale\n",
        "X_scaled = scale(X)\n",
        "\n",
        "print(\"Mean and Standard Deviation of X\")\n",
        "print(np.mean(X))\n",
        "print(np.std(X))\n",
        "print(\"\")\n",
        "print(\"Mean and Standard Deviation of X_scaled\")\n",
        "print(np.mean(X_scaled))\n",
        "print(np.std(X_scaled))"
      ],
      "execution_count": 178,
      "outputs": [
        {
          "output_type": "stream",
          "text": [
            "Mean and Standard Deviation of X\n",
            "44.98579117838542\n",
            "58.37297131925462\n",
            "\n",
            "Mean and Standard Deviation of X_scaled\n",
            "8.919369872314083e-17\n",
            "1.0\n"
          ],
          "name": "stdout"
        }
      ]
    },
    {
      "cell_type": "markdown",
      "metadata": {
        "id": "vWGrGNr9HcFu",
        "colab_type": "text"
      },
      "source": [
        "**Preprocessing and Pipelines**"
      ]
    },
    {
      "cell_type": "code",
      "metadata": {
        "id": "xingo_SrB102",
        "colab_type": "code",
        "colab": {
          "base_uri": "https://localhost:8080/",
          "height": 52
        },
        "outputId": "5bbce42d-6b55-4733-d493-480403543144"
      },
      "source": [
        "# Import the necessary modules\n",
        "from sklearn.preprocessing import StandardScaler\n",
        "from sklearn.pipeline import Pipeline\n",
        "\n",
        "# Setup the pipeline steps: steps\n",
        "steps = [('scaler', StandardScaler()),\n",
        "        ('knn', KNeighborsClassifier())]\n",
        "        \n",
        "# Create the pipeline: pipeline\n",
        "pipeline = Pipeline(steps)\n",
        "\n",
        "# Create train and test sets\n",
        "X_train, X_test, y_train, y_test = train_test_split(X, y, test_size=0.25, random_state=42)\n",
        "\n",
        "# Fit the pipeline to the training set: knn_scaled\n",
        "knn_scaled = pipeline.fit(X_train,y_train)\n",
        "\n",
        "# Instantiate and fit a k-NN classifier to the unscaled data\n",
        "knn_unscaled = KNeighborsClassifier().fit(X_train, y_train)\n",
        "\n",
        "# Compute and print metrics\n",
        "print('Accuracy with Scaling: {}'.format(knn_scaled.score(X_test,y_test)))\n",
        "print('Accuracy without Scaling: {}'.format(knn_unscaled.score(X_test, y_test)))\n"
      ],
      "execution_count": 185,
      "outputs": [
        {
          "output_type": "stream",
          "text": [
            "Accuracy with Scaling: 0.6822916666666666\n",
            "Accuracy without Scaling: 0.65625\n"
          ],
          "name": "stdout"
        }
      ]
    },
    {
      "cell_type": "markdown",
      "metadata": {
        "id": "TO6lcqPLPJFH",
        "colab_type": "text"
      },
      "source": [
        "# Classification Model -- **SVM**\n",
        "## SVM -- Support Vector Machines"
      ]
    },
    {
      "cell_type": "code",
      "metadata": {
        "id": "nekm3vYiBSP1",
        "colab_type": "code",
        "colab": {
          "base_uri": "https://localhost:8080/",
          "height": 208
        },
        "outputId": "5baad17e-adb1-45f7-be21-42f7f52b26c3"
      },
      "source": [
        "from sklearn.svm import SVC\n",
        "# Setup the pipeline\n",
        "steps = [('scaler', StandardScaler()),\n",
        "         ('SVM', SVC())]\n",
        "\n",
        "pipeline = Pipeline(steps)\n",
        "\n",
        "# Specify the hyperparameter space\n",
        "parameters = {'SVM__C':[1, 10, 100],\n",
        "              'SVM__gamma':[0.1, 0.01]}\n",
        "\n",
        "# Create train and test sets\n",
        "X_train, X_test, y_train, y_test = train_test_split(X,y, test_size=0.2, random_state=21)\n",
        "\n",
        "# Instantiate the GridSearchCV object: cv\n",
        "cvt = GridSearchCV(pipeline, param_grid=parameters)\n",
        "\n",
        "# Fit to the training set\n",
        "cvt.fit(X_train, y_train)\n",
        "\n",
        "# Predict the labels of the test set: y_pred\n",
        "y_pred = cvt.predict(X_test)\n",
        "\n",
        "# Compute and print metrics\n",
        "print(\"Accuracy: {}\".format(cvt.score(X_test, y_test)))\n",
        "print(classification_report(y_test, y_pred))\n",
        "print(\"Tuned Model Parameters: {}\".format(cvt.best_params_))\n"
      ],
      "execution_count": 180,
      "outputs": [
        {
          "output_type": "stream",
          "text": [
            "Accuracy: 0.7532467532467533\n",
            "              precision    recall  f1-score   support\n",
            "\n",
            "           0       0.75      0.90      0.82        94\n",
            "           1       0.78      0.52      0.62        60\n",
            "\n",
            "    accuracy                           0.75       154\n",
            "   macro avg       0.76      0.71      0.72       154\n",
            "weighted avg       0.76      0.75      0.74       154\n",
            "\n",
            "Tuned Model Parameters: {'SVM__C': 1, 'SVM__gamma': 0.01}\n"
          ],
          "name": "stdout"
        }
      ]
    },
    {
      "cell_type": "markdown",
      "metadata": {
        "id": "E2dEo1sbIKD0",
        "colab_type": "text"
      },
      "source": [
        "###Printing all the prediction scores"
      ]
    },
    {
      "cell_type": "code",
      "metadata": {
        "id": "g8G7gbriIJrw",
        "colab_type": "code",
        "colab": {
          "base_uri": "https://localhost:8080/",
          "height": 121
        },
        "outputId": "4ef84dbf-1a1f-4f6f-d1da-88e3ccd74192"
      },
      "source": [
        "print(\"Simple KNN model:\", knn.score(X_test, y_test))\n",
        "print(\"Cross Validation Model:\", np.mean(cv_scores))\n",
        "print(\"Prediction score from GridSearchCV:\", knn_cv.best_score_)\n",
        "print(\"Prediction score from RandomizedSearchCV:\", knn_scv.best_score_)\n",
        "print(\"Prediction score after scaling:\", knn_scaled.score(X_test,y_test))\n",
        "print(\"Final Prediction Score:\",cvt.score(X_test, y_test))"
      ],
      "execution_count": 183,
      "outputs": [
        {
          "output_type": "stream",
          "text": [
            "Simple KNN model: 0.65625\n",
            "Cross Validation Model: 0.727900857312622\n",
            "Prediction score from GridSearchCV: 0.7578558696205755\n",
            "Prediction score from RandomizedSearchCV: 0.7578558696205755\n",
            "Prediction score after scaling: 0.6822916666666666\n",
            "Final Prediction Score: 0.7864583333333334\n"
          ],
          "name": "stdout"
        }
      ]
    }
  ]
}