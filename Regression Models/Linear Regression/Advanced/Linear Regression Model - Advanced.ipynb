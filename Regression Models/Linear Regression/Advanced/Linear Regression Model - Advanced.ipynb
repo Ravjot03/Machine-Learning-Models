{
  "nbformat": 4,
  "nbformat_minor": 0,
  "metadata": {
    "colab": {
      "name": "LinearRegressionDataCampModels.ipynb",
      "provenance": [],
      "collapsed_sections": [],
      "toc_visible": true
    },
    "kernelspec": {
      "name": "python3",
      "display_name": "Python 3"
    }
  },
  "cells": [
    {
      "cell_type": "markdown",
      "metadata": {
        "id": "aSOpiu3lEgev"
      },
      "source": [
        "# Linear Regression\n",
        "### Supervised Learning with Scikit-Learn\n"
      ]
    },
    {
      "cell_type": "markdown",
      "metadata": {
        "id": "sz6ugwFQEgKe"
      },
      "source": [
        "## Work By - **RAVJOT SINGH**\n",
        "\n",
        "E-Mail - ravjot313@gmail.com\n",
        "\n",
        "Website - https://ravjot03.github.io/\n",
        "\n",
        "LinkedIn - https://www.linkedin.com/in/ravjot03/\n",
        "\n",
        "GitHub - https://github.com/Ravjot03\n",
        "\n",
        "Medium - https://medium.com/@ravjot03"
      ]
    },
    {
      "cell_type": "markdown",
      "metadata": {
        "id": "2QpYIXW-FRe_"
      },
      "source": [
        "## Importing the libraries"
      ]
    },
    {
      "cell_type": "code",
      "metadata": {
        "id": "5KIOB-hOzxXz"
      },
      "source": [
        "import pandas as pd\n"
      ],
      "execution_count": 1,
      "outputs": []
    },
    {
      "cell_type": "markdown",
      "metadata": {
        "id": "UKjQ4NrPFT3V"
      },
      "source": [
        "## Reading the dataset"
      ]
    },
    {
      "cell_type": "code",
      "metadata": {
        "id": "TxwD2QIc0FVO",
        "colab": {
          "base_uri": "https://localhost:8080/",
          "height": 254
        },
        "outputId": "c9ba2663-bede-4a61-97dd-0f9c3a30d732"
      },
      "source": [
        "df = pd.read_csv('gapminder.csv')\n",
        "df.head()"
      ],
      "execution_count": 2,
      "outputs": [
        {
          "output_type": "execute_result",
          "data": {
            "text/html": [
              "<div>\n",
              "<style scoped>\n",
              "    .dataframe tbody tr th:only-of-type {\n",
              "        vertical-align: middle;\n",
              "    }\n",
              "\n",
              "    .dataframe tbody tr th {\n",
              "        vertical-align: top;\n",
              "    }\n",
              "\n",
              "    .dataframe thead th {\n",
              "        text-align: right;\n",
              "    }\n",
              "</style>\n",
              "<table border=\"1\" class=\"dataframe\">\n",
              "  <thead>\n",
              "    <tr style=\"text-align: right;\">\n",
              "      <th></th>\n",
              "      <th>population</th>\n",
              "      <th>fertility</th>\n",
              "      <th>HIV</th>\n",
              "      <th>CO2</th>\n",
              "      <th>BMI_male</th>\n",
              "      <th>GDP</th>\n",
              "      <th>BMI_female</th>\n",
              "      <th>life</th>\n",
              "      <th>child_mortality</th>\n",
              "      <th>Region</th>\n",
              "    </tr>\n",
              "  </thead>\n",
              "  <tbody>\n",
              "    <tr>\n",
              "      <th>0</th>\n",
              "      <td>34811059.0</td>\n",
              "      <td>2.73</td>\n",
              "      <td>0.1</td>\n",
              "      <td>3.328945</td>\n",
              "      <td>24.59620</td>\n",
              "      <td>12314.0</td>\n",
              "      <td>129.9049</td>\n",
              "      <td>75.3</td>\n",
              "      <td>29.5</td>\n",
              "      <td>Middle East &amp; North Africa</td>\n",
              "    </tr>\n",
              "    <tr>\n",
              "      <th>1</th>\n",
              "      <td>19842251.0</td>\n",
              "      <td>6.43</td>\n",
              "      <td>2.0</td>\n",
              "      <td>1.474353</td>\n",
              "      <td>22.25083</td>\n",
              "      <td>7103.0</td>\n",
              "      <td>130.1247</td>\n",
              "      <td>58.3</td>\n",
              "      <td>192.0</td>\n",
              "      <td>Sub-Saharan Africa</td>\n",
              "    </tr>\n",
              "    <tr>\n",
              "      <th>2</th>\n",
              "      <td>40381860.0</td>\n",
              "      <td>2.24</td>\n",
              "      <td>0.5</td>\n",
              "      <td>4.785170</td>\n",
              "      <td>27.50170</td>\n",
              "      <td>14646.0</td>\n",
              "      <td>118.8915</td>\n",
              "      <td>75.5</td>\n",
              "      <td>15.4</td>\n",
              "      <td>America</td>\n",
              "    </tr>\n",
              "    <tr>\n",
              "      <th>3</th>\n",
              "      <td>2975029.0</td>\n",
              "      <td>1.40</td>\n",
              "      <td>0.1</td>\n",
              "      <td>1.804106</td>\n",
              "      <td>25.35542</td>\n",
              "      <td>7383.0</td>\n",
              "      <td>132.8108</td>\n",
              "      <td>72.5</td>\n",
              "      <td>20.0</td>\n",
              "      <td>Europe &amp; Central Asia</td>\n",
              "    </tr>\n",
              "    <tr>\n",
              "      <th>4</th>\n",
              "      <td>21370348.0</td>\n",
              "      <td>1.96</td>\n",
              "      <td>0.1</td>\n",
              "      <td>18.016313</td>\n",
              "      <td>27.56373</td>\n",
              "      <td>41312.0</td>\n",
              "      <td>117.3755</td>\n",
              "      <td>81.5</td>\n",
              "      <td>5.2</td>\n",
              "      <td>East Asia &amp; Pacific</td>\n",
              "    </tr>\n",
              "  </tbody>\n",
              "</table>\n",
              "</div>"
            ],
            "text/plain": [
              "   population  fertility  ...  child_mortality                      Region\n",
              "0  34811059.0       2.73  ...             29.5  Middle East & North Africa\n",
              "1  19842251.0       6.43  ...            192.0          Sub-Saharan Africa\n",
              "2  40381860.0       2.24  ...             15.4                     America\n",
              "3   2975029.0       1.40  ...             20.0       Europe & Central Asia\n",
              "4  21370348.0       1.96  ...              5.2         East Asia & Pacific\n",
              "\n",
              "[5 rows x 10 columns]"
            ]
          },
          "metadata": {
            "tags": []
          },
          "execution_count": 2
        }
      ]
    },
    {
      "cell_type": "code",
      "metadata": {
        "id": "ceX9uS2B0Mby",
        "colab": {
          "base_uri": "https://localhost:8080/"
        },
        "outputId": "756a8003-d567-45f8-a62d-1433879d644c"
      },
      "source": [
        "df.info()"
      ],
      "execution_count": 3,
      "outputs": [
        {
          "output_type": "stream",
          "text": [
            "<class 'pandas.core.frame.DataFrame'>\n",
            "RangeIndex: 139 entries, 0 to 138\n",
            "Data columns (total 10 columns):\n",
            " #   Column           Non-Null Count  Dtype  \n",
            "---  ------           --------------  -----  \n",
            " 0   population       139 non-null    float64\n",
            " 1   fertility        139 non-null    float64\n",
            " 2   HIV              139 non-null    float64\n",
            " 3   CO2              139 non-null    float64\n",
            " 4   BMI_male         139 non-null    float64\n",
            " 5   GDP              139 non-null    float64\n",
            " 6   BMI_female       139 non-null    float64\n",
            " 7   life             139 non-null    float64\n",
            " 8   child_mortality  139 non-null    float64\n",
            " 9   Region           139 non-null    object \n",
            "dtypes: float64(9), object(1)\n",
            "memory usage: 11.0+ KB\n"
          ],
          "name": "stdout"
        }
      ]
    },
    {
      "cell_type": "code",
      "metadata": {
        "id": "c4drRSXw0RH7",
        "colab": {
          "base_uri": "https://localhost:8080/",
          "height": 314
        },
        "outputId": "0320860e-7353-42e0-e2f5-21d6b133e092"
      },
      "source": [
        "df.describe()"
      ],
      "execution_count": 4,
      "outputs": [
        {
          "output_type": "execute_result",
          "data": {
            "text/html": [
              "<div>\n",
              "<style scoped>\n",
              "    .dataframe tbody tr th:only-of-type {\n",
              "        vertical-align: middle;\n",
              "    }\n",
              "\n",
              "    .dataframe tbody tr th {\n",
              "        vertical-align: top;\n",
              "    }\n",
              "\n",
              "    .dataframe thead th {\n",
              "        text-align: right;\n",
              "    }\n",
              "</style>\n",
              "<table border=\"1\" class=\"dataframe\">\n",
              "  <thead>\n",
              "    <tr style=\"text-align: right;\">\n",
              "      <th></th>\n",
              "      <th>population</th>\n",
              "      <th>fertility</th>\n",
              "      <th>HIV</th>\n",
              "      <th>CO2</th>\n",
              "      <th>BMI_male</th>\n",
              "      <th>GDP</th>\n",
              "      <th>BMI_female</th>\n",
              "      <th>life</th>\n",
              "      <th>child_mortality</th>\n",
              "    </tr>\n",
              "  </thead>\n",
              "  <tbody>\n",
              "    <tr>\n",
              "      <th>count</th>\n",
              "      <td>1.390000e+02</td>\n",
              "      <td>139.000000</td>\n",
              "      <td>139.000000</td>\n",
              "      <td>139.000000</td>\n",
              "      <td>139.000000</td>\n",
              "      <td>139.000000</td>\n",
              "      <td>139.000000</td>\n",
              "      <td>139.000000</td>\n",
              "      <td>139.000000</td>\n",
              "    </tr>\n",
              "    <tr>\n",
              "      <th>mean</th>\n",
              "      <td>3.549977e+07</td>\n",
              "      <td>3.005108</td>\n",
              "      <td>1.915612</td>\n",
              "      <td>4.459874</td>\n",
              "      <td>24.623054</td>\n",
              "      <td>16638.784173</td>\n",
              "      <td>126.701914</td>\n",
              "      <td>69.602878</td>\n",
              "      <td>45.097122</td>\n",
              "    </tr>\n",
              "    <tr>\n",
              "      <th>std</th>\n",
              "      <td>1.095121e+08</td>\n",
              "      <td>1.615354</td>\n",
              "      <td>4.408974</td>\n",
              "      <td>6.268349</td>\n",
              "      <td>2.209368</td>\n",
              "      <td>19207.299083</td>\n",
              "      <td>4.471997</td>\n",
              "      <td>9.122189</td>\n",
              "      <td>45.724667</td>\n",
              "    </tr>\n",
              "    <tr>\n",
              "      <th>min</th>\n",
              "      <td>2.773150e+05</td>\n",
              "      <td>1.280000</td>\n",
              "      <td>0.060000</td>\n",
              "      <td>0.008618</td>\n",
              "      <td>20.397420</td>\n",
              "      <td>588.000000</td>\n",
              "      <td>117.375500</td>\n",
              "      <td>45.200000</td>\n",
              "      <td>2.700000</td>\n",
              "    </tr>\n",
              "    <tr>\n",
              "      <th>25%</th>\n",
              "      <td>3.752776e+06</td>\n",
              "      <td>1.810000</td>\n",
              "      <td>0.100000</td>\n",
              "      <td>0.496190</td>\n",
              "      <td>22.448135</td>\n",
              "      <td>2899.000000</td>\n",
              "      <td>123.232200</td>\n",
              "      <td>62.200000</td>\n",
              "      <td>8.100000</td>\n",
              "    </tr>\n",
              "    <tr>\n",
              "      <th>50%</th>\n",
              "      <td>9.705130e+06</td>\n",
              "      <td>2.410000</td>\n",
              "      <td>0.400000</td>\n",
              "      <td>2.223796</td>\n",
              "      <td>25.156990</td>\n",
              "      <td>9938.000000</td>\n",
              "      <td>126.519600</td>\n",
              "      <td>72.000000</td>\n",
              "      <td>24.000000</td>\n",
              "    </tr>\n",
              "    <tr>\n",
              "      <th>75%</th>\n",
              "      <td>2.791973e+07</td>\n",
              "      <td>4.095000</td>\n",
              "      <td>1.300000</td>\n",
              "      <td>6.589156</td>\n",
              "      <td>26.497575</td>\n",
              "      <td>23278.500000</td>\n",
              "      <td>130.275900</td>\n",
              "      <td>76.850000</td>\n",
              "      <td>74.200000</td>\n",
              "    </tr>\n",
              "    <tr>\n",
              "      <th>max</th>\n",
              "      <td>1.197070e+09</td>\n",
              "      <td>7.590000</td>\n",
              "      <td>25.900000</td>\n",
              "      <td>48.702062</td>\n",
              "      <td>28.456980</td>\n",
              "      <td>126076.000000</td>\n",
              "      <td>135.492000</td>\n",
              "      <td>82.600000</td>\n",
              "      <td>192.000000</td>\n",
              "    </tr>\n",
              "  </tbody>\n",
              "</table>\n",
              "</div>"
            ],
            "text/plain": [
              "         population   fertility  ...        life  child_mortality\n",
              "count  1.390000e+02  139.000000  ...  139.000000       139.000000\n",
              "mean   3.549977e+07    3.005108  ...   69.602878        45.097122\n",
              "std    1.095121e+08    1.615354  ...    9.122189        45.724667\n",
              "min    2.773150e+05    1.280000  ...   45.200000         2.700000\n",
              "25%    3.752776e+06    1.810000  ...   62.200000         8.100000\n",
              "50%    9.705130e+06    2.410000  ...   72.000000        24.000000\n",
              "75%    2.791973e+07    4.095000  ...   76.850000        74.200000\n",
              "max    1.197070e+09    7.590000  ...   82.600000       192.000000\n",
              "\n",
              "[8 rows x 9 columns]"
            ]
          },
          "metadata": {
            "tags": []
          },
          "execution_count": 4
        }
      ]
    },
    {
      "cell_type": "code",
      "metadata": {
        "id": "hSp9A_NP0Ulq",
        "colab": {
          "base_uri": "https://localhost:8080/"
        },
        "outputId": "d5938a61-1dff-4c72-d695-ba8988ca5b8c"
      },
      "source": [
        "df.shape"
      ],
      "execution_count": 5,
      "outputs": [
        {
          "output_type": "execute_result",
          "data": {
            "text/plain": [
              "(139, 10)"
            ]
          },
          "metadata": {
            "tags": []
          },
          "execution_count": 5
        }
      ]
    },
    {
      "cell_type": "code",
      "metadata": {
        "id": "jeTbuBfa0X8H",
        "colab": {
          "base_uri": "https://localhost:8080/",
          "height": 415
        },
        "outputId": "2fe1c523-013c-4346-f574-23b095ce17de"
      },
      "source": [
        "df.isna()"
      ],
      "execution_count": 6,
      "outputs": [
        {
          "output_type": "execute_result",
          "data": {
            "text/html": [
              "<div>\n",
              "<style scoped>\n",
              "    .dataframe tbody tr th:only-of-type {\n",
              "        vertical-align: middle;\n",
              "    }\n",
              "\n",
              "    .dataframe tbody tr th {\n",
              "        vertical-align: top;\n",
              "    }\n",
              "\n",
              "    .dataframe thead th {\n",
              "        text-align: right;\n",
              "    }\n",
              "</style>\n",
              "<table border=\"1\" class=\"dataframe\">\n",
              "  <thead>\n",
              "    <tr style=\"text-align: right;\">\n",
              "      <th></th>\n",
              "      <th>population</th>\n",
              "      <th>fertility</th>\n",
              "      <th>HIV</th>\n",
              "      <th>CO2</th>\n",
              "      <th>BMI_male</th>\n",
              "      <th>GDP</th>\n",
              "      <th>BMI_female</th>\n",
              "      <th>life</th>\n",
              "      <th>child_mortality</th>\n",
              "      <th>Region</th>\n",
              "    </tr>\n",
              "  </thead>\n",
              "  <tbody>\n",
              "    <tr>\n",
              "      <th>0</th>\n",
              "      <td>False</td>\n",
              "      <td>False</td>\n",
              "      <td>False</td>\n",
              "      <td>False</td>\n",
              "      <td>False</td>\n",
              "      <td>False</td>\n",
              "      <td>False</td>\n",
              "      <td>False</td>\n",
              "      <td>False</td>\n",
              "      <td>False</td>\n",
              "    </tr>\n",
              "    <tr>\n",
              "      <th>1</th>\n",
              "      <td>False</td>\n",
              "      <td>False</td>\n",
              "      <td>False</td>\n",
              "      <td>False</td>\n",
              "      <td>False</td>\n",
              "      <td>False</td>\n",
              "      <td>False</td>\n",
              "      <td>False</td>\n",
              "      <td>False</td>\n",
              "      <td>False</td>\n",
              "    </tr>\n",
              "    <tr>\n",
              "      <th>2</th>\n",
              "      <td>False</td>\n",
              "      <td>False</td>\n",
              "      <td>False</td>\n",
              "      <td>False</td>\n",
              "      <td>False</td>\n",
              "      <td>False</td>\n",
              "      <td>False</td>\n",
              "      <td>False</td>\n",
              "      <td>False</td>\n",
              "      <td>False</td>\n",
              "    </tr>\n",
              "    <tr>\n",
              "      <th>3</th>\n",
              "      <td>False</td>\n",
              "      <td>False</td>\n",
              "      <td>False</td>\n",
              "      <td>False</td>\n",
              "      <td>False</td>\n",
              "      <td>False</td>\n",
              "      <td>False</td>\n",
              "      <td>False</td>\n",
              "      <td>False</td>\n",
              "      <td>False</td>\n",
              "    </tr>\n",
              "    <tr>\n",
              "      <th>4</th>\n",
              "      <td>False</td>\n",
              "      <td>False</td>\n",
              "      <td>False</td>\n",
              "      <td>False</td>\n",
              "      <td>False</td>\n",
              "      <td>False</td>\n",
              "      <td>False</td>\n",
              "      <td>False</td>\n",
              "      <td>False</td>\n",
              "      <td>False</td>\n",
              "    </tr>\n",
              "    <tr>\n",
              "      <th>...</th>\n",
              "      <td>...</td>\n",
              "      <td>...</td>\n",
              "      <td>...</td>\n",
              "      <td>...</td>\n",
              "      <td>...</td>\n",
              "      <td>...</td>\n",
              "      <td>...</td>\n",
              "      <td>...</td>\n",
              "      <td>...</td>\n",
              "      <td>...</td>\n",
              "    </tr>\n",
              "    <tr>\n",
              "      <th>134</th>\n",
              "      <td>False</td>\n",
              "      <td>False</td>\n",
              "      <td>False</td>\n",
              "      <td>False</td>\n",
              "      <td>False</td>\n",
              "      <td>False</td>\n",
              "      <td>False</td>\n",
              "      <td>False</td>\n",
              "      <td>False</td>\n",
              "      <td>False</td>\n",
              "    </tr>\n",
              "    <tr>\n",
              "      <th>135</th>\n",
              "      <td>False</td>\n",
              "      <td>False</td>\n",
              "      <td>False</td>\n",
              "      <td>False</td>\n",
              "      <td>False</td>\n",
              "      <td>False</td>\n",
              "      <td>False</td>\n",
              "      <td>False</td>\n",
              "      <td>False</td>\n",
              "      <td>False</td>\n",
              "    </tr>\n",
              "    <tr>\n",
              "      <th>136</th>\n",
              "      <td>False</td>\n",
              "      <td>False</td>\n",
              "      <td>False</td>\n",
              "      <td>False</td>\n",
              "      <td>False</td>\n",
              "      <td>False</td>\n",
              "      <td>False</td>\n",
              "      <td>False</td>\n",
              "      <td>False</td>\n",
              "      <td>False</td>\n",
              "    </tr>\n",
              "    <tr>\n",
              "      <th>137</th>\n",
              "      <td>False</td>\n",
              "      <td>False</td>\n",
              "      <td>False</td>\n",
              "      <td>False</td>\n",
              "      <td>False</td>\n",
              "      <td>False</td>\n",
              "      <td>False</td>\n",
              "      <td>False</td>\n",
              "      <td>False</td>\n",
              "      <td>False</td>\n",
              "    </tr>\n",
              "    <tr>\n",
              "      <th>138</th>\n",
              "      <td>False</td>\n",
              "      <td>False</td>\n",
              "      <td>False</td>\n",
              "      <td>False</td>\n",
              "      <td>False</td>\n",
              "      <td>False</td>\n",
              "      <td>False</td>\n",
              "      <td>False</td>\n",
              "      <td>False</td>\n",
              "      <td>False</td>\n",
              "    </tr>\n",
              "  </tbody>\n",
              "</table>\n",
              "<p>139 rows × 10 columns</p>\n",
              "</div>"
            ],
            "text/plain": [
              "     population  fertility    HIV  ...   life  child_mortality  Region\n",
              "0         False      False  False  ...  False            False   False\n",
              "1         False      False  False  ...  False            False   False\n",
              "2         False      False  False  ...  False            False   False\n",
              "3         False      False  False  ...  False            False   False\n",
              "4         False      False  False  ...  False            False   False\n",
              "..          ...        ...    ...  ...    ...              ...     ...\n",
              "134       False      False  False  ...  False            False   False\n",
              "135       False      False  False  ...  False            False   False\n",
              "136       False      False  False  ...  False            False   False\n",
              "137       False      False  False  ...  False            False   False\n",
              "138       False      False  False  ...  False            False   False\n",
              "\n",
              "[139 rows x 10 columns]"
            ]
          },
          "metadata": {
            "tags": []
          },
          "execution_count": 6
        }
      ]
    },
    {
      "cell_type": "code",
      "metadata": {
        "id": "e-gxqN9Q0aog",
        "colab": {
          "base_uri": "https://localhost:8080/"
        },
        "outputId": "73cd82cd-398f-4ed9-c038-5555351a4107"
      },
      "source": [
        "df.isna().sum()"
      ],
      "execution_count": 7,
      "outputs": [
        {
          "output_type": "execute_result",
          "data": {
            "text/plain": [
              "population         0\n",
              "fertility          0\n",
              "HIV                0\n",
              "CO2                0\n",
              "BMI_male           0\n",
              "GDP                0\n",
              "BMI_female         0\n",
              "life               0\n",
              "child_mortality    0\n",
              "Region             0\n",
              "dtype: int64"
            ]
          },
          "metadata": {
            "tags": []
          },
          "execution_count": 7
        }
      ]
    },
    {
      "cell_type": "markdown",
      "metadata": {
        "id": "EwL8GpARFXZ0"
      },
      "source": [
        "## Applying Linear Regression Model"
      ]
    },
    {
      "cell_type": "code",
      "metadata": {
        "id": "Q5j9xSh30drv",
        "colab": {
          "base_uri": "https://localhost:8080/"
        },
        "outputId": "2ff4f982-3604-4a10-8126-0058f63ced48"
      },
      "source": [
        "from sklearn.model_selection import train_test_split\n",
        "from sklearn.linear_model import LinearRegression\n",
        "\n",
        "X = df['fertility'].values\n",
        "y = df['life'].values \n",
        "\n",
        "y = y.reshape(-1,1)\n",
        "X = X.reshape(-1,1)\n",
        "\n",
        "X_train, X_test, y_train, y_test = train_test_split(X,y, test_size = 0.25, random_state=42)\n",
        "\n",
        "reg_all = LinearRegression()\n",
        " \n",
        "reg_all.fit(X_train, y_train)\n",
        "y_pred = reg_all.predict(X_test)\n",
        "\n",
        "reg_all.score(X_test, y_test)\n"
      ],
      "execution_count": 8,
      "outputs": [
        {
          "output_type": "execute_result",
          "data": {
            "text/plain": [
              "0.7360997026325926"
            ]
          },
          "metadata": {
            "tags": []
          },
          "execution_count": 8
        }
      ]
    },
    {
      "cell_type": "markdown",
      "metadata": {
        "id": "KvotiQWnFeLa"
      },
      "source": [
        "## Applying Cross Validation model"
      ]
    },
    {
      "cell_type": "code",
      "metadata": {
        "id": "ce-RLoJ32cnG",
        "colab": {
          "base_uri": "https://localhost:8080/"
        },
        "outputId": "1f2af537-1167-4a8c-9061-72169011bfd2"
      },
      "source": [
        "from sklearn.model_selection import cross_val_score\n",
        "reg = LinearRegression()\n",
        "\n",
        "cv_results = cross_val_score(reg, X ,y, cv=5)\n",
        "\n",
        "print(cv_results)"
      ],
      "execution_count": 9,
      "outputs": [
        {
          "output_type": "stream",
          "text": [
            "[0.71001079 0.75007717 0.55271526 0.547501   0.52410561]\n"
          ],
          "name": "stdout"
        }
      ]
    },
    {
      "cell_type": "code",
      "metadata": {
        "id": "4srpm51d3CnZ",
        "colab": {
          "base_uri": "https://localhost:8080/"
        },
        "outputId": "5710e772-99b0-45a1-da39-7cdff709a660"
      },
      "source": [
        "import numpy as np\n",
        "np.mean(cv_results)"
      ],
      "execution_count": 10,
      "outputs": [
        {
          "output_type": "execute_result",
          "data": {
            "text/plain": [
              "0.6168819644425119"
            ]
          },
          "metadata": {
            "tags": []
          },
          "execution_count": 10
        }
      ]
    },
    {
      "cell_type": "markdown",
      "metadata": {
        "id": "YVK4COk9FjB9"
      },
      "source": [
        "## Applying Ridge model"
      ]
    },
    {
      "cell_type": "code",
      "metadata": {
        "id": "0H6eqaue3Kso",
        "colab": {
          "base_uri": "https://localhost:8080/"
        },
        "outputId": "59acc721-8b82-43be-e29b-95b6831fd330"
      },
      "source": [
        "from sklearn.model_selection import train_test_split\n",
        "from sklearn.linear_model import Ridge\n",
        "\n",
        "X_train, X_test, y_train, y_test = train_test_split(X,y,test_size=0.25,random_state=42)\n",
        "\n",
        "ridge = Ridge(alpha=0.5, normalize=True)\n",
        "ridge.fit(X_train, y_train)\n",
        "\n",
        "ridge.score(X_test,y_test)"
      ],
      "execution_count": 11,
      "outputs": [
        {
          "output_type": "execute_result",
          "data": {
            "text/plain": [
              "0.6778891585508251"
            ]
          },
          "metadata": {
            "tags": []
          },
          "execution_count": 11
        }
      ]
    },
    {
      "cell_type": "markdown",
      "metadata": {
        "id": "pOTn8THpUxKm"
      },
      "source": [
        "## Applying Lasso Model"
      ]
    },
    {
      "cell_type": "code",
      "metadata": {
        "id": "dpxiIZ6CFo9L",
        "colab": {
          "base_uri": "https://localhost:8080/"
        },
        "outputId": "53246019-6d87-4357-8a15-20524f1f7948"
      },
      "source": [
        "from sklearn.model_selection import train_test_split\n",
        "from sklearn.linear_model import Lasso\n",
        "\n",
        "X_train, X_test, y_train, y_test = train_test_split(X,y,test_size=0.25,random_state=42)\n",
        "\n",
        "lasso = Lasso(alpha=0.5, normalize=True)\n",
        "lasso.fit(X_train, y_train)\n",
        "\n",
        "lasso.score(X_test,y_test)"
      ],
      "execution_count": 12,
      "outputs": [
        {
          "output_type": "execute_result",
          "data": {
            "text/plain": [
              "0.37006658389474933"
            ]
          },
          "metadata": {
            "tags": []
          },
          "execution_count": 12
        }
      ]
    },
    {
      "cell_type": "code",
      "metadata": {
        "id": "Yr6RrlAd5SR1",
        "colab": {
          "base_uri": "https://localhost:8080/"
        },
        "outputId": "843d8ae4-f0cd-40cb-864a-914821ac01b9"
      },
      "source": [
        "from sklearn.preprocessing import scale\n",
        "X_scaled = scale(X)\n",
        "\n",
        "print(\"Mean and Standard Deviation of X\")\n",
        "print(np.mean(X))\n",
        "print(np.std(X))\n",
        "print(\"\")\n",
        "print(\"Mean and Standard Deviation of X_scaled\")\n",
        "print(np.mean(X_scaled))\n",
        "print(np.std(X_scaled))\n"
      ],
      "execution_count": 24,
      "outputs": [
        {
          "output_type": "stream",
          "text": [
            "Mean and Standard Deviation of X\n",
            "3.005107913669065\n",
            "1.6095333641230132\n",
            "\n",
            "Mean and Standard Deviation of X_scaled\n",
            "-2.1485611052098353e-16\n",
            "0.9999999999999999\n"
          ],
          "name": "stdout"
        }
      ]
    },
    {
      "cell_type": "markdown",
      "metadata": {
        "id": "nC-rq-m3Jq50"
      },
      "source": [
        "## Preprocssing Data and Hyperparameters"
      ]
    },
    {
      "cell_type": "code",
      "metadata": {
        "id": "CeF5xGIeGazJ",
        "colab": {
          "base_uri": "https://localhost:8080/"
        },
        "outputId": "d2bd5806-c062-48dc-9cd9-73325060722e"
      },
      "source": [
        "from sklearn.impute import SimpleImputer\n",
        "from sklearn.preprocessing import StandardScaler\n",
        "from sklearn.linear_model import ElasticNet\n",
        "from sklearn.pipeline import Pipeline\n",
        "from sklearn.model_selection import GridSearchCV\n",
        "\n",
        "# Setup the pipeline steps: steps\n",
        "steps = [('imputation', SimpleImputer(missing_values=np.nan, strategy='mean')),\n",
        "         ('scaler',StandardScaler()),\n",
        "         ('elasticnet', ElasticNet())]\n",
        "\n",
        "# Create the pipeline: pipeline \n",
        "pipeline = Pipeline(steps)\n",
        "\n",
        "# Specify the hyperparameter space\n",
        "parameters = {'elasticnet__l1_ratio':np.linspace(0,1,30)}\n",
        "\n",
        "# Create train and test sets\n",
        "X_train, X_test, y_train, y_test = train_test_split(X,y, test_size=0.25, random_state=42)\n",
        "\n",
        "# Create the GridSearchCV object: gm_cv\n",
        "gm_cv = GridSearchCV(pipeline, param_grid=parameters)\n",
        "\n",
        "# Fit to the training set\n",
        "gm_cv.fit(X_train, y_train)\n",
        "\n",
        "# Compute and print the metrics\n",
        "r2 = gm_cv.score(X_test, y_test)\n",
        "print(\"Tuned ElasticNet Alpha: {}\".format(gm_cv.best_params_))\n",
        "print(\"Tuned ElasticNet R squared: {}\".format(r2))"
      ],
      "execution_count": 26,
      "outputs": [
        {
          "output_type": "stream",
          "text": [
            "/usr/local/lib/python3.7/dist-packages/sklearn/linear_model/_coordinate_descent.py:476: ConvergenceWarning: Objective did not converge. You might want to increase the number of iterations. Duality gap: 2686.5460516459175, tolerance: 0.7252346987951809\n",
            "  positive)\n",
            "/usr/local/lib/python3.7/dist-packages/sklearn/linear_model/_coordinate_descent.py:476: ConvergenceWarning: Objective did not converge. You might want to increase the number of iterations. Duality gap: 2521.4214659102, tolerance: 0.7234290602409639\n",
            "  positive)\n",
            "/usr/local/lib/python3.7/dist-packages/sklearn/linear_model/_coordinate_descent.py:476: ConvergenceWarning: Objective did not converge. You might want to increase the number of iterations. Duality gap: 2501.188020744408, tolerance: 0.7391120000000001\n",
            "  positive)\n",
            "/usr/local/lib/python3.7/dist-packages/sklearn/linear_model/_coordinate_descent.py:476: ConvergenceWarning: Objective did not converge. You might want to increase the number of iterations. Duality gap: 2705.239493177117, tolerance: 0.7535941686746989\n",
            "  positive)\n"
          ],
          "name": "stderr"
        },
        {
          "output_type": "stream",
          "text": [
            "Tuned ElasticNet Alpha: {'elasticnet__l1_ratio': 1.0}\n",
            "Tuned ElasticNet R squared: 0.7364457833408234\n"
          ],
          "name": "stdout"
        }
      ]
    }
  ]
}